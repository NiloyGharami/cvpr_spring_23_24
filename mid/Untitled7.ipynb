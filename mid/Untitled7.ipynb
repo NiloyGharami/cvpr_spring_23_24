{
  "nbformat": 4,
  "nbformat_minor": 0,
  "metadata": {
    "colab": {
      "provenance": []
    },
    "kernelspec": {
      "name": "python3",
      "display_name": "Python 3"
    },
    "language_info": {
      "name": "python"
    }
  },
  "cells": [
    {
      "cell_type": "code",
      "execution_count": null,
      "metadata": {
        "colab": {
          "base_uri": "https://localhost:8080/"
        },
        "id": "R7DCABJr86QZ",
        "outputId": "5552662b-f803-4935-c8d2-f88ac847a7a3"
      },
      "outputs": [
        {
          "output_type": "stream",
          "name": "stdout",
          "text": [
            "List of integers from 1 to 10: [1, 2, 3, 4, 5, 6, 7, 8, 9, 10]\n"
          ]
        }
      ],
      "source": [
        "# Creating a list of integers from 1 to 10\n",
        "number_list = list(range(1, 11))\n",
        "\n",
        "# Displaying the created list\n",
        "print(\"List of integers from 1 to 10:\", number_list)\n",
        "\n"
      ]
    },
    {
      "cell_type": "code",
      "source": [
        "# Creating a list of integers from 1 to 10\n",
        "number_list = list(range(1, 11))\n",
        "\n",
        "# Appending the square of each number to the list\n",
        "squared_list = [num ** 2 for num in number_list]\n",
        "\n",
        "# Displaying the updated list\n",
        "print(\"Original list of integers:\", number_list)\n",
        "print(\"List with squares:\", squared_list)"
      ],
      "metadata": {
        "colab": {
          "base_uri": "https://localhost:8080/"
        },
        "id": "IJE874Hv93nh",
        "outputId": "a4d2046d-aa15-4acb-8317-7b302e7ff0d7"
      },
      "execution_count": null,
      "outputs": [
        {
          "output_type": "stream",
          "name": "stdout",
          "text": [
            "Original list of integers: [1, 2, 3, 4, 5, 6, 7, 8, 9, 10]\n",
            "List with squares: [1, 4, 9, 16, 25, 36, 49, 64, 81, 100]\n"
          ]
        }
      ]
    },
    {
      "cell_type": "code",
      "source": [
        "# Creating a list of integers from 1 to 10\n",
        "number_list = list(range(1, 11))\n",
        "\n",
        "# Appending the square of each number to the list\n",
        "squared_list = [num ** 2 for num in number_list]\n",
        "\n",
        "# Finding and printing the sum of all elements in the list\n",
        "total_sum = sum(number_list + squared_list)\n",
        "print(\"Sum of all elements in the list:\", total_sum)"
      ],
      "metadata": {
        "colab": {
          "base_uri": "https://localhost:8080/"
        },
        "id": "Q8q4-gRL-GB_",
        "outputId": "46428791-bf04-41d1-b525-f92e4637ff76"
      },
      "execution_count": null,
      "outputs": [
        {
          "output_type": "stream",
          "name": "stdout",
          "text": [
            "Sum of all elements in the list: 440\n"
          ]
        }
      ]
    },
    {
      "cell_type": "code",
      "source": [
        "# Creating a tuple containing the first five even numbers\n",
        "even_numbers_tuple = tuple(range(2, 12, 2))\n",
        "\n",
        "# Displaying the created tuple\n",
        "print(\"Tuple of the first five even numbers:\", even_numbers_tuple)\n"
      ],
      "metadata": {
        "colab": {
          "base_uri": "https://localhost:8080/"
        },
        "id": "OKnhCZfv-JKf",
        "outputId": "a6896703-fc0c-4c59-9069-d6cc135bfd6a"
      },
      "execution_count": null,
      "outputs": [
        {
          "output_type": "stream",
          "name": "stdout",
          "text": [
            "Tuple of the first five even numbers: (2, 4, 6, 8, 10)\n"
          ]
        }
      ]
    },
    {
      "cell_type": "code",
      "source": [
        "# Creating a tuple containing the first five even numbers\n",
        "even_numbers_tuple = tuple(range(2, 12, 2))\n",
        "\n",
        "# Finding and printing the product of all elements in the tuple\n",
        "product = 1\n",
        "for num in even_numbers_tuple:\n",
        "    product *= num\n",
        "\n",
        "print(\"Product of all elements in the tuple:\", product)\n"
      ],
      "metadata": {
        "colab": {
          "base_uri": "https://localhost:8080/"
        },
        "id": "wdddUUUx-T7w",
        "outputId": "818e3a29-de2f-4fb8-e9cb-2fecf524ae34"
      },
      "execution_count": null,
      "outputs": [
        {
          "output_type": "stream",
          "name": "stdout",
          "text": [
            "Product of all elements in the tuple: 3840\n"
          ]
        }
      ]
    },
    {
      "cell_type": "code",
      "source": [
        "# Creating two sets of odd numbers between 1 to 10\n",
        "odd_set1 = set(range(1, 11, 2))\n",
        "odd_set2 = set(range(1, 11, 2))\n",
        "\n",
        "# Displaying the created sets\n",
        "print(\"Set 1 of odd numbers:\", odd_set1)\n",
        "print(\"Set 2 of odd numbers:\", odd_set2)\n"
      ],
      "metadata": {
        "colab": {
          "base_uri": "https://localhost:8080/"
        },
        "id": "k6k6zEB2--xo",
        "outputId": "c135255d-ea39-4e8a-df3f-f626b0652fa1"
      },
      "execution_count": null,
      "outputs": [
        {
          "output_type": "stream",
          "name": "stdout",
          "text": [
            "Set 1 of odd numbers: {1, 3, 5, 7, 9}\n",
            "Set 2 of odd numbers: {1, 3, 5, 7, 9}\n"
          ]
        }
      ]
    },
    {
      "cell_type": "code",
      "source": [
        "# Creating two sets of odd numbers between 1 to 10\n",
        "odd_set1 = set(range(1, 11, 2))\n",
        "odd_set2 = set(range(1, 11, 2))\n",
        "\n",
        "# Finding and printing the union of the two sets\n",
        "union_set = odd_set1.union(odd_set2)\n",
        "\n",
        "print(\"Union of the two sets:\", union_set)\n"
      ],
      "metadata": {
        "colab": {
          "base_uri": "https://localhost:8080/"
        },
        "id": "8iXN185w_OVa",
        "outputId": "3b5dcc16-3877-4e9c-97fc-10242d17460e"
      },
      "execution_count": null,
      "outputs": [
        {
          "output_type": "stream",
          "name": "stdout",
          "text": [
            "Union of the two sets: {1, 3, 5, 7, 9}\n"
          ]
        }
      ]
    },
    {
      "cell_type": "code",
      "source": [
        "# Creating two sets of odd numbers between 1 to 10\n",
        "odd_set1 = set(range(1, 11, 2))\n",
        "odd_set2 = set(range(1, 11, 2))\n",
        "\n",
        "# Finding and printing the intersection of the two sets\n",
        "intersection_set = odd_set1.intersection(odd_set2)\n",
        "\n",
        "print(\"Intersection of the two sets:\", intersection_set)\n"
      ],
      "metadata": {
        "colab": {
          "base_uri": "https://localhost:8080/"
        },
        "id": "C098WTxD_aCw",
        "outputId": "31c19bf1-1a9e-41bd-f4c7-72fd6ca2ef4e"
      },
      "execution_count": null,
      "outputs": [
        {
          "output_type": "stream",
          "name": "stdout",
          "text": [
            "Intersection of the two sets: {1, 3, 5, 7, 9}\n"
          ]
        }
      ]
    },
    {
      "cell_type": "code",
      "source": [
        "# Creating a dictionary with lowercase alphabets and their ASCII values\n",
        "alphabet_dict = {chr(i): ord(chr(i)) for i in range(ord('a'), ord('e') + 1)}\n",
        "\n",
        "# Displaying the created dictionary\n",
        "print(\"Dictionary with lowercase alphabets and their ASCII values:\", alphabet_dict)\n"
      ],
      "metadata": {
        "colab": {
          "base_uri": "https://localhost:8080/"
        },
        "id": "-645fXrQ_nof",
        "outputId": "d87876f0-2eba-4622-b8cc-518c961c3bda"
      },
      "execution_count": null,
      "outputs": [
        {
          "output_type": "stream",
          "name": "stdout",
          "text": [
            "Dictionary with lowercase alphabets and their ASCII values: {'a': 97, 'b': 98, 'c': 99, 'd': 100, 'e': 101}\n"
          ]
        }
      ]
    },
    {
      "cell_type": "code",
      "source": [
        "# Creating a dictionary with lowercase alphabets and their ASCII values\n",
        "alphabet_dict = {chr(i): ord(chr(i)) for i in range(ord('a'), ord('e') + 1)}\n",
        "\n",
        "# Displaying the created dictionary\n",
        "print(\"Dictionary with lowercase alphabets and their ASCII values:\")\n",
        "print(alphabet_dict)\n"
      ],
      "metadata": {
        "id": "a1QeIh09_1om",
        "outputId": "65965271-e75c-4c79-c352-7242e1afda7a",
        "colab": {
          "base_uri": "https://localhost:8080/"
        }
      },
      "execution_count": null,
      "outputs": [
        {
          "output_type": "stream",
          "name": "stdout",
          "text": [
            "Dictionary with lowercase alphabets and their ASCII values:\n",
            "{'a': 97, 'b': 98, 'c': 99, 'd': 100, 'e': 101}\n"
          ]
        }
      ]
    }
  ]
}